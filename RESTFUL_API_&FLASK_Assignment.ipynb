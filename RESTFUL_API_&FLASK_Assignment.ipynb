{
  "nbformat": 4,
  "nbformat_minor": 0,
  "metadata": {
    "colab": {
      "provenance": []
    },
    "kernelspec": {
      "name": "python3",
      "display_name": "Python 3"
    },
    "language_info": {
      "name": "python"
    }
  },
  "cells": [
    {
      "cell_type": "markdown",
      "source": [
        "## THEORY SOLUTIONS"
      ],
      "metadata": {
        "id": "gvNGu6gO4ckD"
      }
    },
    {
      "cell_type": "markdown",
      "source": [
        "1. What is a RESTful API?\n",
        "\n",
        "A RESTful API is a type of API that follows the principles of Representational State Transfer (REST), an architectural style for designing networked applications. It's a way for different software systems to communicate with each other over the internet, typically using standard HTTP methods."
      ],
      "metadata": {
        "id": "NDkS13rn4ktD"
      }
    },
    {
      "cell_type": "markdown",
      "source": [
        "2.  Explain the concept of API specification.\n",
        "\n",
        "\n",
        "An API specification, or API spec, is a detailed blueprint that describes how an API works. It defines the API's endpoints, the data structures it expects and returns, the authentication methods, and the HTTP methods it uses. Think of it as a contract between the API provider and the consumer. It ensures consistency and helps developers understand how to interact with the API without needing to look at the source code."
      ],
      "metadata": {
        "id": "UjVjig7H4zas"
      }
    },
    {
      "cell_type": "markdown",
      "source": [
        "3.  What is Flask, and why is it popular for building APIs?\n",
        "\n",
        "\n",
        "Flask is a lightweight Python web framework. It's popular for building APIs because of its simplicity and flexibility. As a \"micro-framework,\" it provides only the essential tools to get started, allowing developers to choose their own libraries and design patterns for tasks like database integration and form validation. This minimalist approach makes it easy to learn and perfect for building small to medium-sized APIs quickly."
      ],
      "metadata": {
        "id": "GACnv3oU46ig"
      }
    },
    {
      "cell_type": "markdown",
      "source": [
        "4. What is routing in Flask?\n",
        "\n",
        "Routing in Flask is the process of mapping a URL to a specific function in your Python code. When a user requests a URL, Flask's router determines which function should handle that request."
      ],
      "metadata": {
        "id": "CaXxtg3m5P9_"
      }
    },
    {
      "cell_type": "markdown",
      "source": [
        "5. How do you create a simple Flask application?\n",
        "\n",
        "\n",
        "Here's how you create a basic Flask application:\n",
        "\n",
        "Python\n",
        "\n",
        "from flask import Flask\n",
        "\n",
        "# Create an instance of the Flask class\n",
        "app = Flask(__name__)\n",
        "\n",
        "# Define a route for the home page\n",
        "@app.route('/')\n",
        "def home():\n",
        "    return 'Hello, World! This is my first Flask app.'\n",
        "\n",
        "# Run the application\n",
        "if __name__ == '__main__':\n",
        "    app.run(debug=True)"
      ],
      "metadata": {
        "id": "3CcVnAeE5bPc"
      }
    },
    {
      "cell_type": "markdown",
      "source": [
        "6.  What are HTTP methods used in RESTful APIs?\n",
        "\n",
        "\n",
        "HTTP methods are actions that specify the type of request a client wants to make to a server. In the context of RESTful APIs, the most common methods are:\n",
        "\n",
        "GET: Retrieves data from a resource. It's idempotent, meaning multiple identical requests have the same effect as a single one. It should not have side effects on the server.\n",
        "\n",
        "POST: Creates a new resource. It's not idempotent. Each POST request can create a new resource on the server.\n",
        "\n",
        "PUT: Updates an entire resource. It's idempotent.\n",
        "\n",
        "PATCH: Partially updates a resource.\n",
        "\n",
        "DELETE: Deletes a resource. It's idempotent."
      ],
      "metadata": {
        "id": "b2sxItPd5tWj"
      }
    },
    {
      "cell_type": "markdown",
      "source": [
        "7.  What is the purpose of the @app.route() decorator in Flask?\n",
        "\n",
        "\n",
        "The @app.route() Decorator\n",
        "The @app.route() decorator is a fundamental part of Flask's routing. It's a Python decorator that associates a URL path (e.g., /) with the function directly beneath it (e.g., home()). When a request comes in for that URL, Flask calls the decorated function to generate a response."
      ],
      "metadata": {
        "id": "qbdY766X57qj"
      }
    },
    {
      "cell_type": "markdown",
      "source": [
        "8. What is the difference between GET and POST HTTP methods?\n",
        "\n",
        "\n",
        "HTTP methods are actions that specify the type of request a client wants to make to a server. In the context of RESTful APIs, the most common methods are:\n",
        "\n",
        "GET: Retrieves data from a resource. It's idempotent, meaning multiple identical requests have the same effect as a single one. It should not have side effects on the server.\n",
        "\n",
        "POST: Creates a new resource. It's not idempotent. Each POST request can create a new resource on the server.\n",
        "\n",
        "PUT: Updates an entire resource. It's idempotent.\n",
        "\n",
        "PATCH: Partially updates a resource.\n",
        "\n",
        "DELETE: Deletes a resource. It's idempotent.\n",
        "\n",
        "GET vs. POST\n",
        "The key difference between GET and POST is their purpose. GET is used to retrieve data, like fetching a list of users or a specific product. It appends data to the URL as query parameters. POST, on the other hand, is used to submit data to the server to create a new resource, like submitting a form to create a new user. The data is sent in the body of the request."
      ],
      "metadata": {
        "id": "Sf0XjMxY6Fum"
      }
    },
    {
      "cell_type": "markdown",
      "source": [
        "9. How do you handle errors in Flask APIs?\n",
        "\n",
        "Handling Errors in Flask\n",
        "You can handle errors in Flask using the @app.errorhandler() decorator. This decorator registers a function to handle specific HTTP error codes, such as 404 (Not Found) or 500 (Internal Server Error).\n",
        "\n",
        "Python\n",
        "\n",
        "from flask import Flask, jsonify\n",
        "\n",
        "app = Flask(__name__)\n",
        "\n",
        "@app.errorhandler(404)\n",
        "def not_found_error(error):\n",
        "    return jsonify({\"error\": \"Resource not found\"}), 404"
      ],
      "metadata": {
        "id": "Uz0YRsjm6Q_v"
      }
    },
    {
      "cell_type": "markdown",
      "source": [
        "10. How do you connect Flask to a SQL database?\n",
        "\n",
        "\n",
        "Flask and SQL Databases\n",
        "Connecting to a Database\n",
        "To connect Flask to a SQL database, you typically use a library called an Object-Relational Mapper (ORM) like SQLAlchemy. First, you need to install the Flask-SQLAlchemy extension."
      ],
      "metadata": {
        "id": "4F_DyvfC6khJ"
      }
    },
    {
      "cell_type": "markdown",
      "source": [
        "11. What is the role of Flask-SQLAlchemy?\n",
        "\n",
        "\n",
        "Flask-SQLAlchemy is a Flask extension that simplifies using SQLAlchemy with Flask. It manages the database session and provides a convenient way to define database models, which are Python classes that represent your database tables."
      ],
      "metadata": {
        "id": "HTpXWZh86yAa"
      }
    },
    {
      "cell_type": "markdown",
      "source": [
        "12. What are Flask blueprints, and how are they useful?\n",
        "\n",
        "\n",
        "Flask blueprints are a way to organize your Flask application into modular, reusable components. Instead of having all routes and views in a single file, you can group related functionality (e.g., user-related routes, product-related routes) into separate blueprints. This makes your application more scalable and maintainable."
      ],
      "metadata": {
        "id": "EbJc7fI16-sc"
      }
    },
    {
      "cell_type": "markdown",
      "source": [
        "13. What is the purpose of Flask's request object?\n",
        "\n",
        "\n",
        "Flask Request and jsonify()\n",
        "Flask's request object: This global object contains all the information about the incoming HTTP request, including the form data, URL parameters, and headers. You access it to get data from the client, such as with request.form for form data or request.args for URL parameters.\n"
      ],
      "metadata": {
        "id": "AG6Q_5Qd7LiD"
      }
    },
    {
      "cell_type": "markdown",
      "source": [
        "14. How do you create a RESTful API endpoint using Flask?\n",
        "\n",
        "\n",
        "Here's an example of a simple GET endpoint using jsonify():\n",
        "\n",
        "Python\n",
        "\n",
        "from flask import Flask, jsonify\n",
        "\n",
        "app = Flask(__name__)\n",
        "\n",
        "@app.route('/api/users/<int:user_id>', methods=['GET'])\n",
        "def get_user(user_id):\n",
        "    # In a real app, you would fetch the user from a database\n",
        "    users = {\n",
        "        1: {\"name\": \"Alice\", \"email\": \"alice@example.com\"},\n",
        "        2: {\"name\": \"Bob\", \"email\": \"bob@example.com\"}\n",
        "    }\n",
        "    user = users.get(user_id)\n",
        "    if user:\n",
        "        return jsonify(user)\n",
        "    else:\n",
        "        return jsonify({\"error\": \"User not found\"}), 404"
      ],
      "metadata": {
        "id": "O-NL1O_S7zE3"
      }
    },
    {
      "cell_type": "markdown",
      "source": [
        "15.  What is the purpose of Flask's jsonify() function ?\n",
        "\n",
        "\n",
        "jsonify() function: This Flask function takes a Python dictionary and serializes it into a JSON formatted string. It also sets the Content-Type header to application/json, which is essential for building RESTful APIs."
      ],
      "metadata": {
        "id": "euHaM9B_7_Tu"
      }
    },
    {
      "cell_type": "markdown",
      "source": [
        "16. Explain Flask’s url_for() function.\n",
        "\n",
        "\n",
        "url_for(): This function dynamically generates a URL for a given function. It's highly recommended over hard-coding URLs, as it automatically handles changes to routes."
      ],
      "metadata": {
        "id": "06JLJQXp8Vbj"
      }
    },
    {
      "cell_type": "markdown",
      "source": [
        "17.  How does Flask handle static files (CSS, JavaScript, etc.) ?\n",
        "\n",
        "\n",
        "Flask handles static files like CSS, JavaScript, and images by serving them from a dedicated folder named static inside your application's root directory. When you need to link to one of these files in your HTML templates, you use the url_for() function with the static endpoint.\n",
        "\n",
        "For example, if you have a CSS file at your_app/static/css/style.css, you would link to it in your HTML like this:\n",
        "\n",
        "HTML\n",
        "\n",
        "<link rel=\"stylesheet\" href=\"{{ url_for('static', filename='css/style.css') }}\">\n",
        "This approach is beneficial because it automatically generates the correct URL path for the file, regardless of where your application is running, and it's more robust than hardcoding file paths. Flask sets up a default route to handle requests to the /static/ URL prefix, and it serves the files found in that directory."
      ],
      "metadata": {
        "id": "DxwPWY4m8kEt"
      }
    },
    {
      "cell_type": "markdown",
      "source": [
        "18. What is an API specification, and how does it help in building a Flask API?\n",
        "\n",
        "\n",
        "API works, including its available endpoints, the data it expects to receive (requests), the data it sends back (responses), and the HTTP methods used for each operation.\n",
        "\n",
        "\n",
        "How It Helps in Building a Flask API\n",
        "Having an API specification is crucial for building a Flask API because it provides several key benefits:\n",
        "\n",
        "Clear Planning and Design: Before writing any code, the specification forces you to think through the API's design. This includes defining all the URLs, the data formats (e.g., JSON schemas), and the expected behaviors. This upfront planning prevents inconsistencies and rework later.\n",
        "\n",
        "\n",
        "Consistency and Standardization: The specification ensures that all your endpoints follow a consistent format. For a team of developers, it guarantees everyone is building to the same standard. This is particularly important for large projects where multiple developers are working on different parts of the API.\n",
        "\n",
        "Documentation and Onboarding: An API spec acts as living documentation. A new developer joining the project can quickly understand how the API functions without having to read through all the source code. This significantly reduces the onboarding time.\n",
        "\n",
        "\n",
        "Client and Server Collaboration: It allows frontend and backend developers to work in parallel. The frontend developer can use the specification to build the client-side application and mock API calls, while the backend developer builds the Flask API to match the spec. This a concept known as contract-first development.\n",
        "\n",
        "\n",
        "Automated Tooling: Tools like Swagger (OpenAPI) and Postman can consume an API specification to automatically generate interactive documentation, client SDKs, or even test suites."
      ],
      "metadata": {
        "id": "2dJ2wKX488ru"
      }
    },
    {
      "cell_type": "markdown",
      "source": [
        "19. What are HTTP status codes, and why are they important in a Flask API ?\n",
        "\n",
        "\n",
        "HTTP status codes are three-digit numbers returned by a web server to indicate the outcome of an HTTP request. They are essential in a Flask API because they provide a standardized way for the server to communicate the result of an operation to the client, which is crucial for building robust and reliable applications."
      ],
      "metadata": {
        "id": "T8QaE-VF9amV"
      }
    },
    {
      "cell_type": "markdown",
      "source": [
        "20.  How do you handle POST requests in Flask ?\n",
        "\n",
        "\n",
        "To handle POST requests in Flask, you define a route that accepts the POST method and then use the request object to access the data sent from the client.\n",
        "\n",
        "1. Specifying the POST Method\n",
        "You must explicitly tell Flask that your route function should handle POST requests. You do this by passing a methods argument to the @app.route() decorator.\n",
        "\n",
        "2. Accessing the Request Data\n",
        "The client-side application sends data in the body of the POST request. In Flask, you access this data using the global request object, which is automatically available when handling a request.\n",
        "\n",
        "3. Returning a Response\n",
        "After processing the data, you typically send back a response to the client. For a successful POST request that creates a new resource, the standard HTTP status code is 201 Created. You can also include the newly created resource in the response body."
      ],
      "metadata": {
        "id": "8irMWAW695tg"
      }
    },
    {
      "cell_type": "markdown",
      "source": [
        "21. How would you secure a Flask API ?\n",
        "\n",
        "Securing a Flask API involves a multi-layered approach to protect against common web vulnerabilities. You need to handle authentication, data validation, and network security.\n",
        "\n",
        "Authentication and Authorization\n",
        "Authentication is about verifying a user's identity, while authorization is about granting them permission to access specific resources.\n",
        "\n",
        "JSON Web Tokens (JWTs): A popular method for securing APIs. A user logs in and the API returns a JWT. The client then includes this token in the header of subsequent requests. The API can verify the token's signature to confirm the user's identity and grant access. Use a library like Flask-JWT-Extended to simplify this process.\n",
        "\n",
        "OAuth 2.0 and OpenID Connect: For more complex scenarios, such as allowing users to log in with their Google or GitHub accounts. OAuth 2.0 handles the authorization, while OpenID Connect provides the authentication layer on top.\n",
        "\n",
        "\n",
        "Input Validation and Data Sanitization\n",
        "Never trust data coming from the client. Malicious data can lead to security breaches like SQL injection or cross-site scripting (XSS).\n",
        "\n"
      ],
      "metadata": {
        "id": "3GmvBEMy-XJp"
      }
    },
    {
      "cell_type": "markdown",
      "source": [
        "22.  What is the significance of the Flask-RESTful extension ?\n",
        "\n",
        "\n",
        "The Flask-RESTful extension simplifies building RESTful APIs in Flask by providing a more structured and standardized way to define resources and their corresponding endpoints. Its main significance is that it reduces the amount of boilerplate code you have to write, making API development faster and more consistent.\n",
        "\n",
        "\n",
        "Key Features and Significance\n",
        "Resource Abstraction: Flask-RESTful introduces the concept of a \"Resource.\" You define a class that inherits from Resource, and within that class, you create methods for each HTTP verb (get, post, put, delete). This organizes your code logically, grouping all the functionality for a single resource (e.g., User, Product) in one place, which is a major improvement over defining separate functions for each endpoint.\n",
        "\n",
        "Simplified Routing: It simplifies routing by allowing you to map a resource class to a URL using a single line of code (api.add_resource(...)). This replaces the need for multiple @app.route() decorators for each HTTP method on the same URL.\n",
        "\n",
        "Automatic Content Negotiation: The extension automatically handles content negotiation, so you don't need to manually check if the client is sending or requesting JSON. It handles the parsing of incoming JSON data and the formatting of outgoing responses.\n",
        "\n",
        "\n",
        "Error Handling and Status Codes: It provides a built-in error handling mechanism that makes it easier to return standard HTTP status codes and error messages. You can simply raise a specific exception (e.g., abort(404)) and Flask-RESTful will return a well-formatted error response."
      ],
      "metadata": {
        "id": "fv_Z_v_F_Sk6"
      }
    },
    {
      "cell_type": "markdown",
      "source": [
        "23. What is the role of Flask’s session object?\n",
        "\n",
        "\n",
        "The session object in Flask is a dictionary-like object that allows you to store data specific to a user's session. Its primary role is to maintain state between different requests from the same user. Since HTTP is a stateless protocol, the session object provides a way to remember information about a user as they navigate your web application.\n",
        "\n",
        "\n",
        "How it Works\n",
        "When you store data in the session object (e.g., session['username'] = 'Alice'), Flask doesn't save it on the server. Instead, it securely signs and serializes the data and stores it in a cookie that is sent to the user's browser. On every subsequent request from that user, the browser sends the cookie back to the server, and Flask's session object re-creates the dictionary, making the data available."
      ],
      "metadata": {
        "id": "jZqCfin3_jkk"
      }
    },
    {
      "cell_type": "markdown",
      "source": [
        "## PRACTICAL SOLUTION"
      ],
      "metadata": {
        "id": "Z59fZg3RqC4v"
      }
    },
    {
      "cell_type": "markdown",
      "source": [
        " How do you create a basic Flask application?"
      ],
      "metadata": {
        "id": "wDHNnZHrqGv8"
      }
    },
    {
      "cell_type": "code",
      "execution_count": null,
      "metadata": {
        "id": "IuiNg9NY3z-y",
        "colab": {
          "base_uri": "https://localhost:8080/"
        },
        "outputId": "99c4ef07-2ad8-4253-851e-4d929fe7f7d2"
      },
      "outputs": [
        {
          "output_type": "stream",
          "name": "stdout",
          "text": [
            " * Serving Flask app '__main__'\n",
            " * Debug mode: on\n"
          ]
        },
        {
          "output_type": "stream",
          "name": "stderr",
          "text": [
            "INFO:werkzeug:\u001b[31m\u001b[1mWARNING: This is a development server. Do not use it in a production deployment. Use a production WSGI server instead.\u001b[0m\n",
            " * Running on http://127.0.0.1:5000\n",
            "INFO:werkzeug:\u001b[33mPress CTRL+C to quit\u001b[0m\n",
            "INFO:werkzeug: * Restarting with watchdog (inotify)\n"
          ]
        }
      ],
      "source": [
        "from flask import Flask\n",
        "\n",
        "# Create an instance of the Flask class\n",
        "app = Flask(__name__)\n",
        "\n",
        "# Define a route for the home page\n",
        "@app.route('/')\n",
        "def home():\n",
        "    return 'Hello, World! This is my first Flask app.'\n",
        "\n",
        "# Run the application\n",
        "if __name__ == '__main__':\n",
        "    app.run(debug=True)"
      ]
    },
    {
      "cell_type": "markdown",
      "source": [
        "2. How do you serve static files like images or CSS in Flask?"
      ],
      "metadata": {
        "id": "4gWpCr5Enwuk"
      }
    },
    {
      "cell_type": "code",
      "metadata": {
        "colab": {
          "base_uri": "https://localhost:8080/"
        },
        "id": "0e6bd853",
        "outputId": "5d8c4ade-c390-4c0e-c333-5abe218f24f4"
      },
      "source": [
        "from flask import Flask, url_for, render_template\n",
        "\n",
        "app = Flask(__name__)\n",
        "\n",
        "@app.route('/')\n",
        "def index():\n",
        "    return render_template('index.html')\n",
        "\n",
        "# In your HTML template (e.g., templates/index.html), you would link to your static files like this:\n",
        "# <link rel=\"stylesheet\" href=\"{{ url_for('static', filename='style.css') }}\">\n",
        "# <img src=\"{{ url_for('static', filename='logo.png') }}\" alt=\"Logo\">\n",
        "\n",
        "if __name__ == '__main__':\n",
        "    app.run(debug=True)"
      ],
      "execution_count": null,
      "outputs": [
        {
          "output_type": "stream",
          "name": "stdout",
          "text": [
            " * Serving Flask app '__main__'\n",
            " * Debug mode: on\n"
          ]
        },
        {
          "output_type": "stream",
          "name": "stderr",
          "text": [
            "INFO:werkzeug:\u001b[31m\u001b[1mWARNING: This is a development server. Do not use it in a production deployment. Use a production WSGI server instead.\u001b[0m\n",
            " * Running on http://127.0.0.1:5000\n",
            "INFO:werkzeug:\u001b[33mPress CTRL+C to quit\u001b[0m\n",
            "INFO:werkzeug: * Restarting with watchdog (inotify)\n"
          ]
        }
      ]
    },
    {
      "cell_type": "markdown",
      "source": [
        "3. How do you define different routes with different HTTP methods in Flask?"
      ],
      "metadata": {
        "id": "1EpJHy8voY-j"
      }
    },
    {
      "cell_type": "code",
      "metadata": {
        "id": "d678d69f"
      },
      "source": [
        "from flask import Flask, request\n",
        "\n",
        "app = Flask(__name__)\n",
        "\n",
        "@app.route('/data', methods=['GET'])\n",
        "def get_data():\n",
        "    return 'This is a GET request for data.'\n",
        "\n",
        "@app.route('/data', methods=['POST'])\n",
        "def post_data():\n",
        "    return 'This is a POST request to create data.'\n",
        "\n",
        "@app.route('/data', methods=['PUT'])\n",
        "def put_data():\n",
        "    return 'This is a PUT request to update data.'\n",
        "\n",
        "@app.route('/data', methods=['DELETE'])\n",
        "def delete_data():\n",
        "    return 'This is a DELETE request to delete data.'\n",
        "\n",
        "if __name__ == '__main__':\n",
        "    app.run(debug=True)"
      ],
      "execution_count": null,
      "outputs": []
    },
    {
      "cell_type": "markdown",
      "source": [
        "4. How do you render HTML templates in Flask?"
      ],
      "metadata": {
        "id": "S5qZJJ_dUOvo"
      }
    },
    {
      "cell_type": "code",
      "source": [
        "from flask import Flask, render_template\n",
        "\n",
        "app = Flask(__name__)\n",
        "\n",
        "@app.route('/')\n",
        "def index():\n",
        "    return render_template('index.html')\n",
        "\n",
        "if __name__ == '__main__':\n",
        "    app.run(debug=True)"
      ],
      "metadata": {
        "id": "z0IKRuVYobiq"
      },
      "execution_count": null,
      "outputs": []
    },
    {
      "cell_type": "markdown",
      "source": [
        "5.  How can you generate URLs for routes in Flask using url_for?"
      ],
      "metadata": {
        "id": "bkCadIoEUfVU"
      }
    },
    {
      "cell_type": "code",
      "source": [
        "from flask import Flask, url_for\n",
        "\n",
        "app = Flask(__name__)\n",
        "\n",
        "@app.route('/')\n",
        "def index():\n",
        "    pass  # Placeholder for the index page\n",
        "\n",
        "@app.route('/user/<username>')\n",
        "def profile(username):\n",
        "    pass # Placeholder for the user profile page\n",
        "\n",
        "with app.test_request_context():\n",
        "    # Generate URL for the 'index' route\n",
        "    index_url = url_for('index')\n",
        "    print(f\"URL for index: {index_url}\")\n",
        "\n",
        "    # Generate URL for the 'profile' route with a username\n",
        "    profile_url = url_for('profile', username='JohnDoe')\n",
        "    print(f\"URL for profile for JohnDoe: {profile_url}\")\n",
        "\n",
        "    # Generate URL for the 'profile' route with query parameters\n",
        "    profile_url_with_query = url_for('profile', username='JaneDoe', next='/')\n",
        "    print(f\"URL for profile for JaneDoe with query: {profile_url_with_query}\")"
      ],
      "metadata": {
        "id": "kOJVFlLnUok_"
      },
      "execution_count": null,
      "outputs": []
    },
    {
      "cell_type": "markdown",
      "source": [
        "6.  How do you handle forms in Flask?"
      ],
      "metadata": {
        "id": "DbrvpJlAUv3J"
      }
    },
    {
      "cell_type": "code",
      "source": [
        "from flask import Flask, request, render_template_string\n",
        "\n",
        "app = Flask(__name__)\n",
        "\n",
        "# Simple HTML form\n",
        "form_html = \"\"\"\n",
        "<form method=\"POST\" action=\"/\">\n",
        "    <label for=\"name\">Enter your name:</label><br>\n",
        "    <input type=\"text\" id=\"name\" name=\"name\"><br><br>\n",
        "    <input type=\"submit\" value=\"Submit\">\n",
        "</form>\n",
        "\"\"\"\n",
        "\n",
        "@app.route('/', methods=['GET', 'POST'])\n",
        "def index():\n",
        "    if request.method == 'POST':\n",
        "        name = request.form.get('name')\n",
        "        return f'Hello, {name}!'\n",
        "    return render_template_string(form_html)\n",
        "\n",
        "if __name__ == '__main__':\n",
        "    app.run(debug=True)"
      ],
      "metadata": {
        "id": "NPjsfciPUzzz"
      },
      "execution_count": null,
      "outputs": []
    },
    {
      "cell_type": "markdown",
      "source": [
        "7.  How can you validate form data in Flask?"
      ],
      "metadata": {
        "id": "Jvl0Sb9IU53A"
      }
    },
    {
      "cell_type": "code",
      "source": [
        "from flask import Flask, request, render_template_string\n",
        "\n",
        "app = Flask(__name__)\n",
        "\n",
        "# Simple HTML form with required field\n",
        "form_html_validation = \"\"\"\n",
        "<form method=\"POST\" action=\"/submit\">\n",
        "    <label for=\"email\">Enter your email:</label><br>\n",
        "    <input type=\"email\" id=\"email\" name=\"email\" required><br><br>\n",
        "    <input type=\"submit\" value=\"Submit\">\n",
        "</form>\n",
        "\"\"\"\n",
        "\n",
        "@app.route('/')\n",
        "def index_validation():\n",
        "    return render_template_string(form_html_validation)\n",
        "\n",
        "@app.route('/submit', methods=['POST'])\n",
        "def submit_form():\n",
        "    email = request.form.get('email')\n",
        "    if not email:\n",
        "        return 'Error: Email is required!', 400 # Return a bad request status code\n",
        "    # In a real application, you would do more robust validation here\n",
        "    # For example, using a library like WTForms\n",
        "\n",
        "    return f'Email received: {email}'\n",
        "\n",
        "if __name__ == '__main__':\n",
        "    app.run(debug=True)"
      ],
      "metadata": {
        "id": "vcVdXlWJU-gZ"
      },
      "execution_count": null,
      "outputs": []
    },
    {
      "cell_type": "markdown",
      "source": [
        "8.  How do you manage sessions in Flask?"
      ],
      "metadata": {
        "id": "qg4RyFC9VDQz"
      }
    },
    {
      "cell_type": "code",
      "source": [
        "from flask import Flask, session, redirect, url_for, request, render_template_string\n",
        "\n",
        "app = Flask(__name__)\n",
        "app.secret_key = 'super secret key' # Replace with a real secret key\n",
        "\n",
        "# HTML for setting and getting session data\n",
        "session_html = \"\"\"\n",
        "<form method=\"POST\" action=\"/set_session\">\n",
        "    <label for=\"username\">Enter username:</label><br>\n",
        "    <input type=\"text\" id=\"username\" name=\"username\"><br><br>\n",
        "    <input type=\"submit\" value=\"Set Session\">\n",
        "</form>\n",
        "\n",
        "<p><a href=\"/get_session\">Get Session Data</a></p>\n",
        "<p><a href=\"/clear_session\">Clear Session Data</a></p>\n",
        "\"\"\"\n",
        "\n",
        "@app.route('/')\n",
        "def index_session():\n",
        "    return render_template_string(session_html)\n",
        "\n",
        "@app.route('/set_session', methods=['POST'])\n",
        "def set_session():\n",
        "    session['username'] = request.form.get('username')\n",
        "    return redirect(url_for('index_session'))\n",
        "\n",
        "@app.route('/get_session')\n",
        "def get_session():\n",
        "    username = session.get('username', 'Guest')\n",
        "    return f'Hello, {username}!'\n",
        "\n",
        "@app.route('/clear_session')\n",
        "def clear_session():\n",
        "    session.pop('username', None) # Remove the username from the session\n",
        "    return redirect(url_for('index_session'))\n",
        "\n",
        "if __name__ == '__main__':\n",
        "    app.run(debug=True)"
      ],
      "metadata": {
        "id": "SB4vnyQ3VOeG"
      },
      "execution_count": null,
      "outputs": []
    },
    {
      "cell_type": "markdown",
      "source": [
        "9. How do you redirect to a different route in Flask?"
      ],
      "metadata": {
        "id": "TLCiRcF0VWmJ"
      }
    },
    {
      "cell_type": "code",
      "source": [
        "from flask import Flask, redirect, url_for\n",
        "\n",
        "app = Flask(__name__)\n",
        "\n",
        "@app.route('/')\n",
        "def index():\n",
        "    return 'This is the index page.'\n",
        "\n",
        "@app.route('/redirect_to_index')\n",
        "def go_to_index():\n",
        "    # Redirects the user to the 'index' route\n",
        "    return redirect(url_for('index'))\n",
        "\n",
        "if __name__ == '__main__':\n",
        "    app.run(debug=True)"
      ],
      "metadata": {
        "id": "iqGHDvVPfZsr"
      },
      "execution_count": null,
      "outputs": []
    },
    {
      "cell_type": "markdown",
      "source": [
        "10.  How do you handle errors in Flask (e.g., 404)?"
      ],
      "metadata": {
        "id": "D6XRi3L2ffkX"
      }
    },
    {
      "cell_type": "code",
      "source": [
        "from flask import Flask, jsonify\n",
        "\n",
        "app = Flask(__name__)\n",
        "\n",
        "@app.route('/')\n",
        "def index():\n",
        "    return 'Go to a non-existent route to see the 404 error.'\n",
        "\n",
        "@app.errorhandler(404)\n",
        "def not_found_error(error):\n",
        "    return jsonify({\"error\": \"Resource not found\"}), 404\n",
        "\n",
        "if __name__ == '__main__':\n",
        "    app.run(debug=True)"
      ],
      "metadata": {
        "id": "xCR2UwKMfioI"
      },
      "execution_count": null,
      "outputs": []
    },
    {
      "cell_type": "markdown",
      "source": [
        "11.  How do you structure a Flask app using Blueprints?"
      ],
      "metadata": {
        "id": "gdr6rzUQfthZ"
      }
    },
    {
      "cell_type": "code",
      "source": [
        "# In your main application file (e.g., app.py)\n",
        "\n",
        "from flask import Flask\n",
        "from users import users_bp  # Assuming you have a users.py with a blueprint\n",
        "\n",
        "app = Flask(__name__)\n",
        "\n",
        "# Register the blueprint\n",
        "app.register_blueprint(users_bp, url_prefix='/users')\n",
        "\n",
        "@app.route('/')\n",
        "def index():\n",
        "    return 'Welcome to the homepage!'\n",
        "\n",
        "if __name__ == '__main__':\n",
        "    app.run(debug=True)\n",
        "\n",
        "# In a separate file (e.g., users.py)\n",
        "\n",
        "from flask import Blueprint, jsonify\n",
        "\n",
        "users_bp = Blueprint('users', __name__)\n",
        "\n",
        "@users_bp.route('/')\n",
        "def list_users():\n",
        "    # In a real app, this would fetch users from a database\n",
        "    users = [\n",
        "        {\"id\": 1, \"name\": \"Alice\"},\n",
        "        {\"id\": 2, \"name\": \"Bob\"}\n",
        "    ]\n",
        "    return jsonify(users)\n",
        "\n",
        "@users_bp.route('/<int:user_id>')\n",
        "def get_user(user_id):\n",
        "    # In a real app, this would fetch a specific user from a database\n",
        "    users = {\n",
        "        1: {\"id\": 1, \"name\": \"Alice\"},\n",
        "        2: {\"id\": 2, \"name\": \"Bob\"}\n",
        "    }\n",
        "    user = users.get(user_id)\n",
        "    if user:\n",
        "        return jsonify(user)\n",
        "    else:\n",
        "        return jsonify({\"error\": \"User not found\"}), 404"
      ],
      "metadata": {
        "id": "GTHeOVIIfxT1"
      },
      "execution_count": null,
      "outputs": []
    },
    {
      "cell_type": "markdown",
      "source": [
        "12. How do you define a custom Jinja filter in Flask?"
      ],
      "metadata": {
        "id": "VymqFmwjf8tc"
      }
    },
    {
      "cell_type": "code",
      "source": [
        "from flask import Flask, render_template_string\n",
        "\n",
        "app = Flask(__name__)\n",
        "\n",
        "# Define a custom Jinja filter\n",
        "@app.template_filter('capitalize_words')\n",
        "def capitalize_words_filter(s):\n",
        "    return ' '.join(word.capitalize() for word in s.split())\n",
        "\n",
        "# HTML template using the custom filter\n",
        "template = \"\"\"\n",
        "<p>{{ my_string | capitalize_words }}</p>\n",
        "\"\"\"\n",
        "\n",
        "@app.route('/')\n",
        "def index():\n",
        "    my_string = \"hello world from flask\"\n",
        "    return render_template_string(template, my_string=my_string)\n",
        "\n",
        "if __name__ == '__main__':\n",
        "    app.run(debug=True)"
      ],
      "metadata": {
        "id": "g62vireZgADl"
      },
      "execution_count": null,
      "outputs": []
    },
    {
      "cell_type": "markdown",
      "source": [
        "13.  How can you redirect with query parameters in Flask?"
      ],
      "metadata": {
        "id": "XkOottwvgEFD"
      }
    },
    {
      "cell_type": "code",
      "source": [
        "from flask import Flask, redirect, url_for\n",
        "\n",
        "app = Flask(__name__)\n",
        "\n",
        "@app.route('/')\n",
        "def index():\n",
        "    return 'This is the index page.'\n",
        "\n",
        "@app.route('/redirect_with_params')\n",
        "def go_to_index_with_params():\n",
        "    # Redirects to the 'index' route with query parameters\n",
        "    return redirect(url_for('index', message='hello', type='greeting'))\n",
        "\n",
        "if __name__ == '__main__':\n",
        "    app.run(debug=True)"
      ],
      "metadata": {
        "id": "eT3CrnKxgLf7"
      },
      "execution_count": null,
      "outputs": []
    },
    {
      "cell_type": "markdown",
      "source": [
        "14.  How do you return JSON responses in Flask?"
      ],
      "metadata": {
        "id": "U2LOeV_zgQOx"
      }
    },
    {
      "cell_type": "code",
      "source": [
        "from flask import Flask, jsonify\n",
        "\n",
        "app = Flask(__name__)\n",
        "\n",
        "@app.route('/data')\n",
        "def get_data():\n",
        "    data = {\n",
        "        \"name\": \"Example\",\n",
        "        \"value\": 123,\n",
        "        \"items\": [\"a\", \"b\", \"c\"]\n",
        "    }\n",
        "    return jsonify(data)\n",
        "\n",
        "if __name__ == '__main__':\n",
        "    app.run(debug=True)"
      ],
      "metadata": {
        "id": "7Jqe4v_sgTsP"
      },
      "execution_count": null,
      "outputs": []
    },
    {
      "cell_type": "markdown",
      "source": [
        "15.  How do you capture URL parameters in Flask?"
      ],
      "metadata": {
        "id": "PRvBideVgcGz"
      }
    },
    {
      "cell_type": "code",
      "source": [
        "from flask import Flask\n",
        "\n",
        "app = Flask(__name__)\n",
        "\n",
        "@app.route('/user/<username>')\n",
        "def show_user_profile(username):\n",
        "    # show the user profile for that user\n",
        "    return f'User: {username}'\n",
        "\n",
        "@app.route('/post/<int:post_id>')\n",
        "def show_post(post_id):\n",
        "    # show the post with the given id, the id is an integer\n",
        "    return f'Post ID: {post_id}'\n",
        "\n",
        "@app.route('/path/<path:subpath>')\n",
        "def show_subpath(subpath):\n",
        "    # show the subpath after /path/\n",
        "    return f'Subpath: {subpath}'\n",
        "\n",
        "if __name__ == '__main__':\n",
        "    app.run(debug=True)"
      ],
      "metadata": {
        "id": "a5iJaR8lgyPa"
      },
      "execution_count": null,
      "outputs": []
    }
  ]
}